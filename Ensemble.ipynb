{
  "nbformat": 4,
  "nbformat_minor": 0,
  "metadata": {
    "colab": {
      "name": "Ensemble.ipynb",
      "provenance": [],
      "collapsed_sections": [],
      "toc_visible": true,
      "include_colab_link": true
    },
    "kernelspec": {
      "name": "python3",
      "display_name": "Python 3"
    }
  },
  "cells": [
    {
      "cell_type": "markdown",
      "metadata": {
        "id": "view-in-github",
        "colab_type": "text"
      },
      "source": [
        "<a href=\"https://colab.research.google.com/github/aleschiavo94/Convolutional-Neural-Network-for-Medical-Imaging-Analysis---Abnormality-detection-in-mammography/blob/main/Ensemble.ipynb\" target=\"_parent\"><img src=\"https://colab.research.google.com/assets/colab-badge.svg\" alt=\"Open In Colab\"/></a>"
      ]
    },
    {
      "cell_type": "code",
      "metadata": {
        "colab": {
          "base_uri": "https://localhost:8080/"
        },
        "id": "2ef8rOImRyfI",
        "outputId": "5c714a50-d749-4804-d505-d78b27ade843"
      },
      "source": [
        "from google.colab import drive\r\n",
        "drive.mount('/content/gdrive', force_remount=True) "
      ],
      "execution_count": null,
      "outputs": [
        {
          "output_type": "stream",
          "text": [
            "Mounted at /content/gdrive\n"
          ],
          "name": "stdout"
        }
      ]
    },
    {
      "cell_type": "markdown",
      "metadata": {
        "id": "GsZLDE21fjTX"
      },
      "source": [
        "#0.1 Load Functions"
      ]
    },
    {
      "cell_type": "code",
      "metadata": {
        "id": "IXkpDAfSfiol",
        "colab": {
          "base_uri": "https://localhost:8080/"
        },
        "outputId": "7cb128da-c413-4684-aeb1-8ed927d504a9"
      },
      "source": [
        "import matplotlib.pyplot as plt\r\n",
        "import tensorflow as tf\r\n",
        "import seaborn as sns # Grouped bar plot\r\n",
        "import itertools\r\n",
        "import numpy as np\r\n",
        "import pandas as pd \r\n",
        "import ast #Abstract Syntax Trees\r\n",
        "import os \r\n",
        "import gc # Garbage Collector\r\n",
        "\r\n",
        "from tensorflow.keras import backend as K # Useful to free GPU and memory\r\n",
        "from sklearn.metrics import confusion_matrix, classification_report\r\n",
        "from tensorflow.keras.preprocessing.image import ImageDataGenerator\r\n",
        "from tensorflow.keras.preprocessing import image\r\n",
        "from tensorflow.keras.models import load_model\r\n",
        "from keras import layers, optimizers, models, regularizers, metrics\r\n",
        "from keras.models import load_model\r\n",
        "from sklearn.metrics import roc_curve\r\n",
        "from sklearn.metrics import auc\r\n",
        "from keras.models import Model\r\n",
        "\r\n",
        "from tensorflow.keras.applications.vgg16 import preprocess_input as preprocess_input_vgg\r\n",
        "from tensorflow.keras.applications.resnet import preprocess_input as preprocess_input_resnet\r\n",
        "\r\n",
        "from sklearn.metrics import accuracy_score\r\n",
        "\r\n",
        "import scipy\r\n",
        "import scipy.misc\r\n",
        "from PIL import Image\r\n",
        "BATCH_SIZE = 20\r\n",
        "EPOCHS = 50\r\n",
        "\r\n",
        "base_path = \"/content/gdrive/My Drive/Colab Notebooks/CIDL/DL Project\"\r\n",
        "train_img_path = os.path.join(base_path, \"numpy data/train_tensor.npy\")\r\n",
        "train_label_path = os.path.join(base_path, \"numpy data/train_labels.npy\")\r\n",
        "test_img_path = os.path.join(base_path, \"numpy data/public_test_tensor.npy\")\r\n",
        "test_label_path = os.path.join(base_path, \"numpy data/public_test_labels.npy\")\r\n",
        "\r\n",
        "MODEL_PATH = os.path.join(base_path, \"models/PreTrained-Masses-Calcifications/\")\r\n",
        "PLOTS_PATH = os.path.join(base_path, \"plots/Masses-Calcifications\")\r\n",
        "\r\n",
        "\r\n",
        "# to produce final model report histogram \r\n",
        "AUC_values = []\r\n",
        "TPR_values = []\r\n",
        "FPR_values = []\r\n",
        "PRECISION_values = []\r\n",
        "SPECIFICITY_values = []\r\n",
        "\r\n",
        "# Load Arrays from Numpy Files\r\n",
        "def load_training():\r\n",
        "  train_images = np.load(train_img_path)\r\n",
        "  train_labels = np.load(train_label_path)\r\n",
        "  test_images = np.load(test_img_path)\r\n",
        "  test_labels = np.load(test_label_path)\r\n",
        "\r\n",
        "  return train_images, train_labels, test_images, test_labels\r\n",
        "\r\n",
        "def get_model_predictions(model, dataset, labels, sample_count): \r\n",
        "  predictions = np.zeros((sample_count,))   \r\n",
        "\r\n",
        "  BATCH_SIZE = 1\r\n",
        "  i = 0\r\n",
        "  for batch, labels_batch in test_datagen.flow(dataset, labels, batch_size=BATCH_SIZE, shuffle=False):\r\n",
        "    predictions[i * BATCH_SIZE : (i + 1) * BATCH_SIZE] = model.predict(batch)\r\n",
        "    i += 1\r\n",
        "\r\n",
        "    if i * BATCH_SIZE  >= sample_count:\r\n",
        "      break\r\n",
        "\r\n",
        "    #np.where(predictions < 0.5, 0, 1)\r\n",
        "    #predictions = np.where(predictions < 0.5, 0, 1)\r\n",
        "\r\n",
        "  return predictions\r\n",
        "\r\n",
        "\r\n",
        "# Remove baseline samples\r\n",
        "def remove_baseline(tensor): \r\n",
        "  max_ind = int(len(tensor)/2)\r\n",
        "  indexes = [2*i + 1 for i in range(0, max_ind)]\r\n",
        "\r\n",
        "  return tensor[indexes]\r\n",
        "\r\n",
        "# Interchange the dataset index\r\n",
        "def shuffle_dataset(x, y):\r\n",
        "  indices = tf.range(start=0, limit=tf.shape(x)[0], dtype=tf.int32)\r\n",
        "  shuffled_indices = tf.random.shuffle(indices)\r\n",
        "\r\n",
        "  x = tf.gather(x, shuffled_indices)\r\n",
        "  y = tf.gather(y, shuffled_indices)\r\n",
        "\r\n",
        "  x = x.numpy()\r\n",
        "  y = y.numpy()\r\n",
        "\r\n",
        "  return x, y\r\n",
        "\r\n",
        "# split dataset into training and validation set 70-30\r\n",
        "def split_train_val(dataset, labels):\r\n",
        "  train_data_split = dataset[:int(0.7*len(dataset))]\r\n",
        "  valid_data_split = dataset[int(0.7*len(dataset)):]\r\n",
        "  train_labels_split = labels[:int(0.7*len(labels))]\r\n",
        "  valid_labels_split = labels[int(0.7*len(labels)):]\r\n",
        "\r\n",
        "  print(train_data_split.shape)\r\n",
        "  print(valid_data_split.shape)\r\n",
        "  print(train_labels_split.shape)\r\n",
        "  print(valid_labels_split.shape)      \r\n",
        "\r\n",
        "  return train_data_split, valid_data_split, train_labels_split, valid_labels_split\r\n",
        "\r\n",
        "\r\n",
        "\r\n",
        "def cross_validate(k, batch_size, num_epochs, dataset, targets, verbosity, model_path):\r\n",
        "  #10-Fold-Cross-Validation\r\n",
        "  num_val_samples = len(dataset) // k \r\n",
        "  validation_accuracies = []\r\n",
        "  validation_losses = []\r\n",
        "  validation_precisions = []\r\n",
        "  validation_recalls = []\r\n",
        "  validation_aucs = []\r\n",
        "  model = models.load_model(os.path.join(MODEL_PATH, model_path))\r\n",
        "  for i in range(k):\r\n",
        "    # rigen augmented data \r\n",
        "    \r\n",
        "    print(\"processing fold #\", i)\r\n",
        "    validation_data = dataset[i * num_val_samples : (i + 1) * num_val_samples]\r\n",
        "    validation_labels = targets[i * num_val_samples : (i + 1) * num_val_samples]\r\n",
        "\r\n",
        "    partial_train_data = np.concatenate(\r\n",
        "        [dataset[:i * num_val_samples],\r\n",
        "        dataset[(i + 1) * num_val_samples:]], \r\n",
        "        axis=0)\r\n",
        "\r\n",
        "    partial_train_targets = np.concatenate(\r\n",
        "        [targets[:i * num_val_samples],\r\n",
        "        targets[(i + 1) * num_val_samples:]], \r\n",
        "        axis=0)\r\n",
        "\r\n",
        "    \r\n",
        "    \r\n",
        "    history = model.fit(train_datagen.flow(partial_train_data, \r\n",
        "                                          partial_train_targets,\r\n",
        "                                          batch_size=batch_size,\r\n",
        "                                          shuffle=False),\r\n",
        "                        epochs=num_epochs,\r\n",
        "                        steps_per_epoch=len(partial_train_data) // batch_size,\r\n",
        "                        verbose=verbosity,\r\n",
        "                        callbacks=[GarbageCollectorCallback()])\r\n",
        "    \r\n",
        "    val_loss, val_acc, val_prec, val_rec, val_auc= model.evaluate(valid_datagen.flow(validation_data,\r\n",
        "                                                          validation_labels,\r\n",
        "                                                          batch_size=batch_size,\r\n",
        "                                                          shuffle=False),\r\n",
        "                                       steps=len(validation_data) // batch_size,\r\n",
        "                                       callbacks=[GarbageCollectorCallback()])\r\n",
        "    \r\n",
        "    validation_accuracies.append(val_acc)\r\n",
        "    validation_losses.append(val_loss)\r\n",
        "    validation_precisions.append(val_prec)\r\n",
        "    validation_recalls.append(val_rec)\r\n",
        "    validation_aucs.append(val_auc)\r\n",
        "\r\n",
        "    ## ADDED TO TRY AND REDUCE RAM USAGE DURING CROSS VALIDATE\r\n",
        "    del partial_train_targets\r\n",
        "    del partial_train_data\r\n",
        "    del validation_data\r\n",
        "    del validation_labels\r\n",
        "    del history\r\n",
        "    \r\n",
        "  return validation_accuracies, validation_losses, validation_precisions, validation_recalls, validation_aucs\r\n",
        "\r\n",
        "\r\n",
        "def global_contrast_normalization(X):\r\n",
        "    X_average = np.mean(X)\r\n",
        "    #print('Mean: ', X_average)\r\n",
        "    X = X - X_average\r\n",
        "    return X\r\n",
        "\r\n",
        "# Visualization Confusion Matrix\r\n",
        "def plot_confusion_matrix(model,\r\n",
        "                          classes,\r\n",
        "                          dataset, \r\n",
        "                          labels,\r\n",
        "                          test_datagen,\r\n",
        "                          title='Confusion matrix',\r\n",
        "                          cmap=plt.cm.Blues):\r\n",
        "    \"\"\"\r\n",
        "    This function prints and plots the confusion matrix.\r\n",
        "    Normalization can be applied by setting `normalize=True`.\r\n",
        "    \"\"\"\r\n",
        "    Y_pred = model.predict(test_datagen.flow(dataset,\r\n",
        "                                            labels,\r\n",
        "                                            batch_size=21,\r\n",
        "                                            shuffle=False),\r\n",
        "                          steps=len(dataset) // BATCH_SIZE)\r\n",
        "\r\n",
        "    np.where(Y_pred < 0.5, 0, 1)\r\n",
        "    y_pred = np.where(Y_pred < 0.5, 0, 1)\r\n",
        "\r\n",
        "    print('Confusion Matrix')\r\n",
        "    cm = confusion_matrix(labels, y_pred)\r\n",
        "\r\n",
        "    #print(cm)\r\n",
        "    #print('Classification Report')\r\n",
        "    print(classification_report(labels, y_pred))\r\n",
        "\r\n",
        "\r\n",
        "    plt.imshow(cm, interpolation='nearest', cmap=cmap)\r\n",
        "    plt.title(title)\r\n",
        "    plt.colorbar()\r\n",
        "    tick_marks = np.arange(len(classes))\r\n",
        "    plt.xticks(tick_marks, classes, rotation=45)\r\n",
        "    plt.yticks(tick_marks, classes)\r\n",
        "\r\n",
        "    #print(cm)\r\n",
        "\r\n",
        "    thresh = cm.max() / 2.\r\n",
        "    for i, j in itertools.product(range(cm.shape[0]), range(cm.shape[1])):\r\n",
        "        plt.text(j, i, cm[i, j],\r\n",
        "            horizontalalignment=\"center\",\r\n",
        "            color=\"white\" if cm[i, j] > thresh else \"black\")\r\n",
        "\r\n",
        "    plt.tight_layout()\r\n",
        "    plt.ylabel('True label')\r\n",
        "    plt.xlabel('Predicted label')\r\n",
        "\r\n",
        "    return plt\r\n",
        "\r\n",
        "\r\n",
        "def plot_loss(history):\r\n",
        "  acc = history.history['acc']\r\n",
        "  val_acc = history.history['val_acc']\r\n",
        "  loss = history.history['loss']\r\n",
        "  val_loss = history.history['val_loss']\r\n",
        "\r\n",
        "  epochs = range(len(acc))\r\n",
        "\r\n",
        "  plt.figure()\r\n",
        "  plt.plot(epochs, loss, 'bo', label='Training loss')\r\n",
        "  plt.plot(epochs, val_loss, 'b', label='Validation loss')\r\n",
        "  plt.title('Training and validation loss')\r\n",
        "  plt.legend()\r\n",
        "\r\n",
        "  return plt\r\n",
        "\r\n",
        "# Visualization Data Histogram\r\n",
        "def plot_acc(history):\r\n",
        "  acc = history.history['acc']\r\n",
        "  val_acc = history.history['val_acc']\r\n",
        "  loss = history.history['loss']\r\n",
        "  val_loss = history.history['val_loss']\r\n",
        "\r\n",
        "  epochs = range(len(acc))\r\n",
        "\r\n",
        "  plt.figure()\r\n",
        "  plt.plot(epochs, acc, 'bo', label='Training accuracy')\r\n",
        "  plt.plot(epochs, val_acc, 'b', label='Validation accuracy')\r\n",
        "  plt.title('Training and validation accuracy')\r\n",
        "  plt.legend()\r\n",
        "\r\n",
        "  return plt\r\n",
        "\r\n",
        "# Visualization Data Histogram\r\n",
        "def plot(history):\r\n",
        "  acc = history.history['accuracy']\r\n",
        "  val_acc = history.history['val_accuracy']\r\n",
        "  loss = history.history['loss']\r\n",
        "  val_loss = history.history['val_loss']\r\n",
        "\r\n",
        "  epochs = range(len(acc))\r\n",
        "\r\n",
        "  plt.plot(epochs, acc, 'bo', label='Training accuracy')\r\n",
        "  plt.plot(epochs, val_acc, 'b', label='Validation accuracy')\r\n",
        "  plt.title('Training and validation accuracy')\r\n",
        "  plt.legend()\r\n",
        "\r\n",
        "  plt.figure()\r\n",
        "\r\n",
        "  plt.plot(epochs, loss, 'bo', label='Training loss')\r\n",
        "  plt.plot(epochs, val_loss, 'b', label='Validation loss')\r\n",
        "  plt.title('Training and validation loss')\r\n",
        "  plt.legend()\r\n",
        "\r\n",
        "  return plt\r\n",
        "\r\n",
        "# Visualization Detail Metric\r\n",
        "def plot_metrics(history):\r\n",
        "  metrics = ['loss', 'auc', 'precision', 'recall']\r\n",
        "  plt.figure(figsize=(12,10))\r\n",
        "\r\n",
        "  for n, metric in enumerate(metrics):\r\n",
        "    name = metric.replace(\"_\",\" \").capitalize()\r\n",
        "    plt.subplot(2,2,n+1)\r\n",
        "    plt.plot(history.epoch, history.history[metric], label='Train')\r\n",
        "    plt.plot(history.epoch, history.history['val_'+metric],\r\n",
        "             linestyle=\"--\", label='Val')\r\n",
        "    plt.xlabel('Epoch')\r\n",
        "    plt.ylabel(name)\r\n",
        "\r\n",
        "    if metric == 'loss':\r\n",
        "      plt.ylim([0, plt.ylim()[1]])\r\n",
        "    elif metric == 'auc':\r\n",
        "      plt.ylim([0.8,1])\r\n",
        "    else:\r\n",
        "      plt.ylim([0,1])\r\n",
        "\r\n",
        "    plt.legend()\r\n",
        "\r\n",
        "  return plt\r\n",
        "\r\n",
        "\r\n",
        "def plot_AUC(model, dataset, labels):\r\n",
        "  y_pred_keras = get_model_predictions(model, dataset, labels, len(dataset))\r\n",
        "  fpr_keras, tpr_keras, thresholds_keras = roc_curve(labels, y_pred_keras)\r\n",
        "  #thresholds_keras = np.linspace(0,1,num=100)\r\n",
        "  auc_keras = auc(fpr_keras, tpr_keras)\r\n",
        "\r\n",
        "  plt.figure(1)\r\n",
        "  plt.plot([0, 1], [0, 1], 'k--')\r\n",
        "  plt.plot(fpr_keras, tpr_keras, label='CNN (area = {:.3f})'.format(auc_keras))\r\n",
        "  plt.xlabel('False positive rate')\r\n",
        "  plt.ylabel('True positive rate')\r\n",
        "  plt.title('ROC curve')\r\n",
        "  plt.legend(loc='best')\r\n",
        "  #plt.show()\r\n",
        "\r\n",
        "  return auc_keras, plt\r\n",
        "\r\n",
        "def plot_AUC2(model, dataset, labels):\r\n",
        "  y_pred_keras = get_model_predictions(model, dataset, labels, len(dataset))\r\n",
        "  fpr_keras, tpr_keras, thresholds_keras = roc_curve(labels, y_pred_keras)\r\n",
        "  #thresholds_keras = np.linspace(0,1,num=100)\r\n",
        "  auc_keras = auc(fpr_keras, tpr_keras)\r\n",
        "\r\n",
        "  plt.figure(1)\r\n",
        "  plt.plot([0, 1], [0, 1], 'k--')\r\n",
        "  plt.plot(fpr_keras, tpr_keras, label='CNN (area = {:.3f})'.format(auc_keras))\r\n",
        "  plt.xlabel('False positive rate')\r\n",
        "  plt.ylabel('True positive rate')\r\n",
        "  plt.title('ROC curve')\r\n",
        "  plt.legend(loc='best')\r\n",
        "  plt.show()\r\n",
        "\r\n",
        "\r\n",
        "# Custom Callback To Include in Callbacks List At Training Time\r\n",
        "class GarbageCollectorCallback(tf.keras.callbacks.Callback):\r\n",
        "    def on_epoch_end(self, epoch, logs=None):\r\n",
        "      gc.collect()\r\n",
        "\r\n",
        "\r\n",
        "\r\n",
        "print(\"Done\")\r\n",
        "\r\n"
      ],
      "execution_count": null,
      "outputs": [
        {
          "output_type": "stream",
          "text": [
            "Done\n"
          ],
          "name": "stdout"
        }
      ]
    },
    {
      "cell_type": "markdown",
      "metadata": {
        "id": "Q8sET73NdtFK"
      },
      "source": [
        "##Labels Mapping - Masses vs Calcifications"
      ]
    },
    {
      "cell_type": "code",
      "metadata": {
        "id": "MlSxiKjqdszT"
      },
      "source": [
        "# Masses and Calcifications \r\n",
        "def labels_mapping(labels):\r\n",
        "  labels_local = np.zeros(shape=labels.shape, dtype=\"float32\")\r\n",
        "  idx = 0\r\n",
        "  for label in labels:\r\n",
        "    # Masses\r\n",
        "    if label == 1 or label == 2:\r\n",
        "      labels_local[idx] = 0\r\n",
        "    # Calcifications\r\n",
        "    else:\r\n",
        "      labels_local[idx] = 1\r\n",
        "    idx += 1\r\n",
        "\r\n",
        "  return labels_local\r\n",
        "\r\n"
      ],
      "execution_count": null,
      "outputs": []
    },
    {
      "cell_type": "markdown",
      "metadata": {
        "id": "WKJd7QILdwCc"
      },
      "source": [
        "## Labels Mapping - Benign vs Malign"
      ]
    },
    {
      "cell_type": "code",
      "metadata": {
        "id": "oqtp4uyudygd"
      },
      "source": [
        "# Benign and Malign \r\n",
        "def labels_mapping(labels):\r\n",
        "  labels_local = np.zeros(shape=labels.shape, dtype=\"float32\")\r\n",
        "  idx = 0\r\n",
        "  for label in labels:\r\n",
        "    # Benign\r\n",
        "    if label == 1 or label == 3:\r\n",
        "      labels_local[idx] = 0\r\n",
        "    # Malign\r\n",
        "    else:\r\n",
        "      labels_local[idx] = 1\r\n",
        "    idx += 1\r\n",
        "\r\n",
        "  return labels_local\r\n"
      ],
      "execution_count": null,
      "outputs": []
    },
    {
      "cell_type": "markdown",
      "metadata": {
        "id": "7kz2-Tgv4Uao"
      },
      "source": [
        "# 0.2 Set Metrics and Global Variables"
      ]
    },
    {
      "cell_type": "code",
      "metadata": {
        "id": "43tqiH0zi09-",
        "colab": {
          "base_uri": "https://localhost:8080/"
        },
        "outputId": "37fdecf6-b4da-4626-f283-6381470eb62e"
      },
      "source": [
        "INPUT_SHAPE = (150, 150, 3)\r\n",
        "IMG_HEIGHT = 150\r\n",
        "IMG_WIDTH = 150\r\n",
        "BATCH_SIZE = 20\r\n",
        "\r\n",
        "\r\n",
        "METRICS = [\r\n",
        "      metrics.BinaryAccuracy(name='acc'),\r\n",
        "      #metrics.Precision(name='precision'),\r\n",
        "      #metrics.Recall(name='recall'),\r\n",
        "      #metrics.AUC(name='auc'),\r\n",
        "      # metrics.TruePositives(name='tp'),\r\n",
        "      # metrics.FalsePositives(name='fp'),\r\n",
        "      # metrics.TrueNegatives(name='tn'),\r\n",
        "      # metrics.FalseNegatives(name='fn'),     \r\n",
        "]\r\n",
        "\r\n",
        "es = tf.keras.callbacks.EarlyStopping(\r\n",
        "     monitor='val_loss', patience=20, verbose=0,\r\n",
        "     mode='auto', restore_best_weights=True\r\n",
        ")\r\n",
        "\r\n",
        "# Custom Callback To Include in Callbacks List At Training Time\r\n",
        "class GarbageCollectorCallback(tf.keras.callbacks.Callback):\r\n",
        "    def on_epoch_end(self, epoch, logs=None):\r\n",
        "      gc.collect()\r\n",
        "\r\n",
        "print(\"Done\")"
      ],
      "execution_count": null,
      "outputs": [
        {
          "output_type": "stream",
          "text": [
            "Done\n"
          ],
          "name": "stdout"
        }
      ]
    },
    {
      "cell_type": "markdown",
      "metadata": {
        "id": "qMwz9noBVHBJ"
      },
      "source": [
        "#Load Test DataSet"
      ]
    },
    {
      "cell_type": "code",
      "metadata": {
        "colab": {
          "base_uri": "https://localhost:8080/"
        },
        "id": "xyx14vUHVDrd",
        "outputId": "6775ba5f-8f37-4de8-e405-0ce382958095"
      },
      "source": [
        "train_images, train_labels, test_images, test_labels = load_training()\r\n",
        "\r\n",
        "test_images = remove_baseline(test_images)\r\n",
        "test_labels = remove_baseline(test_labels)\r\n",
        "test_labels = labels_mapping(test_labels)\r\n",
        "test_images, test_labels = shuffle_dataset(test_images, test_labels)\r\n",
        "test_images = test_images.reshape(test_images.shape + (1,))\r\n",
        "\r\n",
        "#expand test images from grayscale to RGB \r\n",
        "if test_images.shape[3] == 1:\r\n",
        "  test_images = np.repeat(test_images, 3, axis = 3)\r\n",
        "\r\n",
        "\r\n",
        "print(test_images.shape)\r\n",
        "\r\n",
        "test_datagen_incp = ImageDataGenerator(rescale=1./65535) \r\n",
        "\r\n",
        "test_datagen_vgg = ImageDataGenerator(rescale=1./65535, preprocessing_function=preprocess_input_vgg) \r\n",
        "\r\n",
        "test_datagen_resnet = ImageDataGenerator(rescale=1./65535, preprocessing_function=preprocess_input_resnet) "
      ],
      "execution_count": null,
      "outputs": [
        {
          "output_type": "stream",
          "text": [
            "(336, 150, 150, 3)\n"
          ],
          "name": "stdout"
        }
      ]
    },
    {
      "cell_type": "markdown",
      "metadata": {
        "id": "PnEJvECuSzna"
      },
      "source": [
        "# Ensemble with Majority Vote"
      ]
    },
    {
      "cell_type": "markdown",
      "metadata": {
        "id": "oEpx56dJeFxm"
      },
      "source": [
        "##Ensemble Masses vs Calcifications "
      ]
    },
    {
      "cell_type": "code",
      "metadata": {
        "id": "7sFxwQxMe0n2"
      },
      "source": [
        "# vgg1 = models.load_model(MODEL_PATH + '/Vgg/vgg__globalAvgPool_dense_256x1_last_3_blocks_trainable.h5')             # 89.69   % accuracy\r\n",
        "# vgg2 = models.load_model(MODEL_PATH + '/Vgg/vgg__globalAvgPool_dense_256x3_last_3_blocks_trainable.h5')             # not used\r\n",
        "# resnet1 = models.load_model(MODEL_PATH + '/ResNet/resNet_dense_256x1_last_block_trainable.h5')                      # 90      % accuracy\r\n",
        "# resnet2 = models.load_model(MODEL_PATH + '/ResNet/ResNet_flatten_dense_256x3_last_3_blocks_trainable.h5')           # 90      % accuracy\r\n",
        "# inception1 = models.load_model(MODEL_PATH + '/Inception/Inception_flatten_dense_256_all_trainable.h5')              # 89.38   % accuracy\r\n",
        "# inception2 = models.load_model(MODEL_PATH + '/Inception/Inception_flatten_dense_256x3_last_3_blocks_trainable.h5')  # 89.06   % accuracy"
      ],
      "execution_count": null,
      "outputs": []
    },
    {
      "cell_type": "code",
      "metadata": {
        "id": "L8-xdr1V_Uq7"
      },
      "source": [
        "test_images_np = np.array(test_images)\r\n",
        "test_images_np = test_images_np/65535"
      ],
      "execution_count": null,
      "outputs": []
    },
    {
      "cell_type": "code",
      "metadata": {
        "id": "YhtM8Bv4FjyE"
      },
      "source": [
        "y_pred_list = []\r\n",
        "MODEL_PATH = os.path.join(base_path, \"models/PreTrained-Masses-Calcifications/\")\r\n",
        "model_list = []\r\n",
        "model_list.append(models.load_model(MODEL_PATH + '/Vgg/vgg__globalAvgPool_dense_256x1_last_3_blocks_trainable.h5'))\r\n",
        "#model_list.append(models.load_model(MODEL_PATH + '/Vgg/vgg__globalAvgPool_dense_256x3_last_3_blocks_trainable.h5'))\r\n",
        "model_list.append(models.load_model(MODEL_PATH + '/ResNet/resNet_dense_256x1_last_block_trainable.h5'))\r\n",
        "model_list.append(models.load_model(MODEL_PATH + '/ResNet/ResNet_flatten_dense_256x3_last_3_blocks_trainable.h5'))\r\n",
        "model_list.append(models.load_model(MODEL_PATH + '/Inception/Inception_flatten_dense_256_all_trainable.h5'))\r\n",
        "model_list.append(models.load_model(MODEL_PATH + '/Inception/Inception_flatten_dense_256x3_last_3_blocks_trainable.h5')) ## until here, 91,667%\r\n",
        "\r\n",
        "model_list.append(models.load_model(MODEL_PATH + '/ResNet/ResNet_flatten_dense_256_all_trainable.h5'))\r\n",
        "model_list.append(models.load_model(MODEL_PATH + '/ResNet/resNet_dense_256x1_last_2_blocks_trainable.h5'))\r\n",
        "model_list.append(models.load_model(MODEL_PATH + '/Vgg/vgg_flatten_dense_256x3_last_3_blocks_trainable.h5'))\r\n",
        "model_list.append(models.load_model(MODEL_PATH + '/Vgg/vgg_flatten_dense_256x3_last_2_blocks_trainable.h5'))\r\n",
        "model_list.append(models.load_model(MODEL_PATH + '/ResNet/ResNet_flatten_dense_256x5_last_3_blocks_trainable.h5'))\r\n",
        "model_list.append(models.load_model(MODEL_PATH + '/Inception/Inception_Flatten_dense_256x1_last_3_blocks_trainable.h5'))  ##until here, 92,26%\r\n",
        "\r\n",
        "\r\n",
        "#Commented because adding these lower the Overall Test Accuracy\r\n",
        "# model_list.append(models.load_model(MODEL_PATH + '/ResNet/ResNet_flatten_dense_256x5_last_2_blocks_trainable.h5'))\r\n",
        "# model_list.append(models.load_model(MODEL_PATH + '/Vgg/vgg_dense_256x1_last_2_blocks_trainable.h5'))\r\n",
        "# model_list.append(models.load_model(MODEL_PATH + '/Inception/Inception_dense_256x1_last_2_blocks_trainable.h5'))\r\n",
        "# model_list.append(models.load_model(MODEL_PATH + '/Vgg/vgg_finetune_dense_256_and_last_ConvBlock.h5'))  ## until here, 91.37%\r\n",
        "\r\n",
        "\r\n",
        "for model in model_list:\r\n",
        "  y_pred = model.predict(test_images_np)\r\n",
        "  y_pred_np = np.array(y_pred)\r\n",
        "  y_pred_np = (y_pred_np > 0.5).astype(int)\r\n",
        "  y_pred_list.append(y_pred_np)\r\n",
        "  \r\n"
      ],
      "execution_count": null,
      "outputs": []
    },
    {
      "cell_type": "code",
      "metadata": {
        "id": "qfz17KZ3Gz13"
      },
      "source": [
        "result_voting = np.zeros(test_labels.shape)\r\n",
        "tmp_list = []\r\n",
        "for predict in y_pred_list:\r\n",
        "  predict = np.where((predict<0.5), -1, 1) \r\n",
        "  tmp_list.append(predict)\r\n",
        "\r\n",
        "result = np.array(tmp_list)\r\n",
        "result = result.sum(axis=0)\r\n",
        "\r\n",
        "result_voting = (result > 0).astype(int)"
      ],
      "execution_count": null,
      "outputs": []
    },
    {
      "cell_type": "code",
      "metadata": {
        "colab": {
          "base_uri": "https://localhost:8080/"
        },
        "id": "5SUtKNaZMNdK",
        "outputId": "c7cedc3a-256f-4686-c335-8eea97dde00a"
      },
      "source": [
        "result = accuracy_score(test_labels, result_voting)\r\n",
        "print(result)"
      ],
      "execution_count": null,
      "outputs": [
        {
          "output_type": "stream",
          "text": [
            "0.9226190476190477\n"
          ],
          "name": "stdout"
        }
      ]
    },
    {
      "cell_type": "code",
      "metadata": {
        "colab": {
          "base_uri": "https://localhost:8080/",
          "height": 498
        },
        "id": "2LK8jOlTy0bI",
        "outputId": "d74d66de-b1e7-45b6-f169-1a746fb2f8cd"
      },
      "source": [
        "print('Confusion Matrix')\r\n",
        "cm = confusion_matrix(test_labels, result_voting)\r\n",
        "\r\n",
        "#print(cm)\r\n",
        "#print('Classification Report')\r\n",
        "print(classification_report(test_labels, result_voting)) ## good\r\n",
        "\r\n",
        "title = 'Confusion Matrix'\r\n",
        "classes = ['Masses', 'Calcifications']\r\n",
        "cmap=plt.cm.Blues\r\n",
        "plt.imshow(cm, interpolation='nearest', cmap=cmap)\r\n",
        "plt.title(title)\r\n",
        "plt.colorbar()\r\n",
        "tick_marks = np.arange(len(classes))\r\n",
        "plt.xticks(tick_marks, classes, rotation=45)\r\n",
        "plt.yticks(tick_marks, classes)\r\n",
        "\r\n",
        "#print(cm)\r\n",
        "\r\n",
        "thresh = cm.max() / 2.\r\n",
        "for i, j in itertools.product(range(cm.shape[0]), range(cm.shape[1])):\r\n",
        "    plt.text(j, i, cm[i, j],\r\n",
        "        horizontalalignment=\"center\",\r\n",
        "        color=\"white\" if cm[i, j] > thresh else \"black\")\r\n",
        "\r\n",
        "plt.tight_layout()\r\n",
        "plt.ylabel('True label')\r\n",
        "plt.xlabel('Predicted label')"
      ],
      "execution_count": null,
      "outputs": [
        {
          "output_type": "stream",
          "text": [
            "Confusion Matrix\n",
            "              precision    recall  f1-score   support\n",
            "\n",
            "         0.0       0.94      0.92      0.93       179\n",
            "         1.0       0.91      0.93      0.92       157\n",
            "\n",
            "    accuracy                           0.92       336\n",
            "   macro avg       0.92      0.92      0.92       336\n",
            "weighted avg       0.92      0.92      0.92       336\n",
            "\n"
          ],
          "name": "stdout"
        },
        {
          "output_type": "execute_result",
          "data": {
            "text/plain": [
              "Text(0.5, -29.27044545606752, 'Predicted label')"
            ]
          },
          "metadata": {
            "tags": []
          },
          "execution_count": 23
        },
        {
          "output_type": "display_data",
          "data": {
            "image/png": "[encoded data removed]",
            "text/plain": [
              "<Figure size 432x288 with 2 Axes>"
            ]
          },
          "metadata": {
            "tags": [],
            "needs_background": "light"
          }
        }
      ]
    },
    {
      "cell_type": "markdown",
      "metadata": {
        "id": "2rTtT5nCeUXg"
      },
      "source": [
        "## Ensemble Benign vs Malign"
      ]
    },
    {
      "cell_type": "code",
      "metadata": {
        "id": "jv2Cm68PeWNh"
      },
      "source": [
        "test_images_np = np.array(test_images)\r\n",
        "test_images_np = test_images_np/65535\r\n",
        "\r\n",
        "#best_1 = 69.38%\r\n",
        "#best_2 = 71.25%\r\n",
        "#best_3 = 68.43%\r\n",
        "#best_4 = 72.18%\r\n",
        "#best_5 = 66.56%\r\n",
        "\r\n",
        "\r\n",
        "y_pred_list = []\r\n",
        "MODEL_PATH = os.path.join(base_path, \"models/PreTrained-Benign-Malign/\")\r\n",
        "model_list = []\r\n",
        "model_list.append(models.load_model(MODEL_PATH + '/BEST_1_ENSEMBLE.h5'))\r\n",
        "model_list.append(models.load_model(MODEL_PATH + '/BEST_2_ENSEMBLE.h5'))\r\n",
        "model_list.append(models.load_model(MODEL_PATH + '/BEST_3_ENSEMBLE.h5'))\r\n",
        "model_list.append(models.load_model(MODEL_PATH + '/BEST_4_ENSEMBLE.h5'))\r\n",
        "model_list.append(models.load_model(MODEL_PATH + '/BEST_5_ENSEMBLE.h5')) "
      ],
      "execution_count": null,
      "outputs": []
    },
    {
      "cell_type": "code",
      "metadata": {
        "id": "EVOcqYe2eW3Q"
      },
      "source": [
        "y_pred_list = []\r\n",
        "for model in model_list:\r\n",
        "  y_pred = model.predict(test_images_np)\r\n",
        "  y_pred_np = np.array(y_pred)\r\n",
        "  y_pred_np = (y_pred_np > 0.5).astype(int)\r\n",
        "  y_pred_list.append(y_pred_np)"
      ],
      "execution_count": null,
      "outputs": []
    },
    {
      "cell_type": "code",
      "metadata": {
        "id": "IEbKZoJaeYdq",
        "colab": {
          "base_uri": "https://localhost:8080/"
        },
        "outputId": "c9ec3a3c-0bb6-4df0-efae-ec5ddb3d1424"
      },
      "source": [
        "result_voting = np.zeros(test_labels.shape)\r\n",
        "tmp_list = []\r\n",
        "for predict in y_pred_list:\r\n",
        "  predict = np.where((predict<0.5), -1, 1) \r\n",
        "  tmp_list.append(predict)\r\n",
        "\r\n",
        "result = np.array(tmp_list)\r\n",
        "result = result.sum(axis=0)\r\n",
        "\r\n",
        "\r\n",
        "result_voting = (result > 0).astype(int)\r\n",
        "result = accuracy_score(test_labels, result_voting)\r\n",
        "print(result)"
      ],
      "execution_count": null,
      "outputs": [
        {
          "output_type": "stream",
          "text": [
            "0.6904761904761905\n"
          ],
          "name": "stdout"
        }
      ]
    },
    {
      "cell_type": "code",
      "metadata": {
        "id": "vxYOdlFIHFES",
        "colab": {
          "base_uri": "https://localhost:8080/",
          "height": 496
        },
        "outputId": "4eb8d868-9e91-4b36-8f6a-0ab3b038c3f3"
      },
      "source": [
        "print('Confusion Matrix')\r\n",
        "cm = confusion_matrix(test_labels, result_voting)\r\n",
        "\r\n",
        "#print(cm)\r\n",
        "#print('Classification Report')\r\n",
        "print(classification_report(test_labels, result_voting)) ## good\r\n",
        "\r\n",
        "title = 'Confusion Matrix'\r\n",
        "classes = ['Benign', 'Malign']\r\n",
        "cmap=plt.cm.Blues\r\n",
        "plt.imshow(cm, interpolation='nearest', cmap=cmap)\r\n",
        "plt.title(title)\r\n",
        "plt.colorbar()\r\n",
        "tick_marks = np.arange(len(classes))\r\n",
        "plt.xticks(tick_marks, classes, rotation=45)\r\n",
        "plt.yticks(tick_marks, classes)\r\n",
        "\r\n",
        "#print(cm)\r\n",
        "\r\n",
        "thresh = cm.max() / 2.\r\n",
        "for i, j in itertools.product(range(cm.shape[0]), range(cm.shape[1])):\r\n",
        "    plt.text(j, i, cm[i, j],\r\n",
        "        horizontalalignment=\"center\",\r\n",
        "        color=\"white\" if cm[i, j] > thresh else \"black\")\r\n",
        "\r\n",
        "plt.tight_layout()\r\n",
        "plt.ylabel('True label')\r\n",
        "plt.xlabel('Predicted label')"
      ],
      "execution_count": null,
      "outputs": [
        {
          "output_type": "stream",
          "text": [
            "Confusion Matrix\n",
            "              precision    recall  f1-score   support\n",
            "\n",
            "         0.0       0.79      0.71      0.75       219\n",
            "         1.0       0.55      0.66      0.60       117\n",
            "\n",
            "    accuracy                           0.69       336\n",
            "   macro avg       0.67      0.68      0.67       336\n",
            "weighted avg       0.71      0.69      0.70       336\n",
            "\n"
          ],
          "name": "stdout"
        },
        {
          "output_type": "execute_result",
          "data": {
            "text/plain": [
              "Text(0.5, -6.819805153394636, 'Predicted label')"
            ]
          },
          "metadata": {
            "tags": []
          },
          "execution_count": 11
        },
        {
          "output_type": "display_data",
          "data": {
            "image/png": "[encoded data removed]",
            "text/plain": [
              "<Figure size 432x288 with 2 Axes>"
            ]
          },
          "metadata": {
            "tags": [],
            "needs_background": "light"
          }
        }
      ]
    },
    {
      "cell_type": "markdown",
      "metadata": {
        "id": "O6NhW1FhmPy4"
      },
      "source": [
        "# Private Test Set Submission.csv file Generation"
      ]
    },
    {
      "cell_type": "code",
      "metadata": {
        "id": "NrqnH0Cplbsq"
      },
      "source": [
        "\r\n",
        "\r\n",
        "MODEL_PATH = os.path.join(base_path, \"models/PreTrained-Benign-Malign/\")\r\n",
        "#ResNet 3x drop Dense , last 3 blocks\r\n",
        "model = models.load_model(MODEL_PATH + '/BEST_4_ENSEMBLE.h5')\r\n"
      ],
      "execution_count": null,
      "outputs": []
    },
    {
      "cell_type": "code",
      "metadata": {
        "colab": {
          "base_uri": "https://localhost:8080/"
        },
        "id": "ZjcSAMkinCjk",
        "outputId": "f62281d1-b0fe-4a27-fb80-076497b56ea1"
      },
      "source": [
        "test_private_path = os.path.join(base_path, \"numpy data/private_test_tensor.npy\")\r\n",
        "\r\n",
        "\r\n",
        "test_images = np.load(test_img_path)\r\n",
        "\r\n",
        "test_images = test_images.reshape(test_images.shape + (1,))\r\n",
        "\r\n",
        "#expand test images from grayscale to RGB \r\n",
        "if test_images.shape[3] == 1:\r\n",
        "  test_images = np.repeat(test_images, 3, axis = 3)\r\n",
        "  \r\n",
        "test_images = test_images/65535\r\n",
        "print(test_images.shape)"
      ],
      "execution_count": null,
      "outputs": [
        {
          "output_type": "stream",
          "text": [
            "(672, 150, 150, 3)\n"
          ],
          "name": "stdout"
        }
      ]
    },
    {
      "cell_type": "code",
      "metadata": {
        "id": "dhEG9V_zrWtS"
      },
      "source": [
        "y_pred = model.predict(test_images)\r\n",
        "y_pred_np = (y_pred > 0.5).astype(int)\r\n",
        "print(y_pred_np)"
      ],
      "execution_count": null,
      "outputs": []
    },
    {
      "cell_type": "code",
      "metadata": {
        "id": "HHGJXsD1nG1G"
      },
      "source": [
        "file_path = os.path.join(base_path, \"/Submission.csv\")\r\n",
        "f = open(base_path + '/Submission.csv','w')\r\n",
        "\r\n",
        "for elem in y_pred_np:\r\n",
        "  f.write(str(elem[0])+'\\n')\r\n",
        "## Python will convert \\n to os.linesep\r\n",
        "f.close()"
      ],
      "execution_count": null,
      "outputs": []
    }
  ]
}